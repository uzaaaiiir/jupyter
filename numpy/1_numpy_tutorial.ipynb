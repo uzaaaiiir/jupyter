{
 "cells": [
  {
   "cell_type": "code",
   "execution_count": 1,
   "id": "74cb6811-3957-4d43-a229-d62aabc62f33",
   "metadata": {},
   "outputs": [
    {
     "name": "stdout",
     "output_type": "stream",
     "text": [
      "[1, 2, 3, 4]\n",
      "1\n",
      "['John Elder', 1, [1, 2, 3, 4], True]\n"
     ]
    }
   ],
   "source": [
    "list1 = [ 1, 2, 3, 4 ]\n",
    "print(list1)\n",
    "print(list1[0])\n",
    "\n",
    "# Lists can have multiple data types\n",
    "list2 = [\"John Elder\", 1, list1, True]\n",
    "print(list2)"
   ]
  },
  {
   "cell_type": "code",
   "execution_count": 2,
   "id": "3e0daf05-8950-4aae-b12e-2b45e208f889",
   "metadata": {},
   "outputs": [
    {
     "name": "stdout",
     "output_type": "stream",
     "text": [
      "[0 1 2 3 4 5 6 7 8 9]\n"
     ]
    }
   ],
   "source": [
    "# Harder to deal with lists with normal python operations if the lists are large\n",
    "# Use numpy array instead\n",
    "# numpy = Numeric Python\n",
    "\n",
    "import numpy as np\n",
    "\n",
    "# ndarray = n dimensional array\n",
    "np1 = np.array([0, 1, 2, 3, 4, 5, 6, 7, 8, 9])\n",
    "print(np1)"
   ]
  },
  {
   "cell_type": "code",
   "execution_count": 3,
   "id": "15d786e1-27f3-43b8-b6aa-32097567b27a",
   "metadata": {},
   "outputs": [
    {
     "name": "stdout",
     "output_type": "stream",
     "text": [
      "np1.shape = (10,)\n",
      "np.arange(10) = [0 1 2 3 4 5 6 7 8 9]\n",
      "np.arange(0, 10, 2) = [0 2 4 6 8]\n",
      "np.zeros(10) = [0. 0. 0. 0. 0. 0. 0. 0. 0. 0.]\n",
      "np.zeros(2,10) = [[0. 0. 0. 0. 0. 0. 0. 0. 0. 0.]\n",
      " [0. 0. 0. 0. 0. 0. 0. 0. 0. 0.]]\n",
      "np.full((2, 5), 7) = [[7 7 7 7 7]\n",
      " [7 7 7 7 7]]\n",
      "np.array([1, 2, 3, 4, 5]) = [1 2 3 4 5]\n",
      "np7[2] = 3\n"
     ]
    }
   ],
   "source": [
    "# np.shape: provides shape of array\n",
    "print(\"np1.shape =\", np1.shape)\n",
    "\n",
    "# np.arange: used to create a numpy array\n",
    "np2 = np.arange(10)\n",
    "print(\"np.arange(10) =\", np2) # [0, 1, 2, 3, 4, 5, 6, 7, 8, 9]\n",
    "\n",
    "# np.arange(begin, end, step)\n",
    "np3 = np.arange(0, 10, 2)\n",
    "print(\"np.arange(0, 10, 2) =\", np3) # [0, 2, 4, 6, 8]\n",
    "\n",
    "# np.zeros: create array of zeroes\n",
    "np4 = np.zeros(10)\n",
    "print(\"np.zeros(10) =\", np4)\n",
    "\n",
    "# np.zeros((dimension, 10))\n",
    "np5 = np.zeros((2, 10))\n",
    "print(\"np.zeros(2,10) =\", np5) # [[0,0,0,0,0,0,0,0,0,0], [0,0,0,0,0,0,0,0,0,0]]\n",
    "\n",
    "# np.full((dimensions, # items), value): Populate an array with n number of items with the value specified\n",
    "np6 = np.full((2, 5), 7)\n",
    "print(\"np.full((2, 5), 7) =\", np6)  # [[7, 7, 7, 7, 7], [7, 7, 7, 7, 7]]\n",
    "\n",
    "# Convert python list to np\n",
    "list2 = [1, 2, 3, 4, 5]\n",
    "np7 = np.array(list2)\n",
    "print(\"np.array([1, 2, 3, 4, 5]) =\", np7) # [1, 2, 3, 4, 5]\n",
    "\n",
    "# indexing np array\n",
    "print(\"np7[2] =\", np7[2]) # 3"
   ]
  },
  {
   "cell_type": "code",
   "execution_count": 4,
   "id": "6de7aede-42b1-45d0-bb25-4ab57c4ee308",
   "metadata": {},
   "outputs": [
    {
     "name": "stdout",
     "output_type": "stream",
     "text": [
      "np1 = [1 2 3 4 5 6 7 8 9]\n",
      "np1[1:5] = [2 3 4 5]\n",
      "np1[3:] = [4 5 6 7 8 9]\n",
      "np1[-3: -1] = [7 8]\n",
      "np1[1:5:2] = [2 4]\n",
      "np1[::2] = [1 3 5 7 9]\n",
      "\n",
      "np2 = [[ 1  2  3  4  5]\n",
      " [ 6  7  8  9 10]]\n",
      "np2[1, 2] = 8\n",
      "np2[0:1, 1:3] = [[2 3]]\n",
      "np2[:, 1:3] = [[2 3]\n",
      " [7 8]]\n"
     ]
    }
   ],
   "source": [
    "# Slicing Numpy Arrays: Does not modify original array\n",
    "np1 = np.arange(1, 10) # [1, 2, 3, 4, 5, 6, 7, 8, 9]\n",
    "print(\"np1 =\", np1)\n",
    "\n",
    "# Slice and return 2, 3, 4, 5\n",
    "print(\"np1[1:5] =\", np1[1:5])\n",
    "\n",
    "# Return from n till end of array\n",
    "print(\"np1[3:] =\", np1[3:])\n",
    "\n",
    "# Negative slices\n",
    "print(\"np1[-3: -1] =\", np1[-3: -1])  # [7, 8]\n",
    "\n",
    "# Slices with steps \n",
    "print(\"np1[1:5:2] =\", np1[1:5:2]) # [2, 4]\n",
    "\n",
    "# Steps on entire array\n",
    "print(\"np1[::2] =\", np1[::2]) # [1, 3, 5, 7, 9]\n",
    "\n",
    "# Slice 2-d array\n",
    "np2 = np.array([[1, 2, 3, 4, 5], [6, 7, 8, 9, 10]])\n",
    "print(\"\\nnp2 =\", np2)\n",
    "\n",
    "# Access in 2d array\n",
    "print(\"np2[1, 2] =\", np2[1, 2])   # 8\n",
    "\n",
    "# Slice 2d array\n",
    "print(\"np2[0:1, 1:3] =\", np2[0:1, 1:3]) # [[2, 3]]\n",
    "print(\"np2[:, 1:3] =\", np2[:, 1:3])   # [[2, 3], [7, 8]]"
   ]
  },
  {
   "cell_type": "code",
   "execution_count": 5,
   "id": "89ad8d96-276a-4a9a-ac4f-623e4c6d7041",
   "metadata": {},
   "outputs": [
    {
     "name": "stdout",
     "output_type": "stream",
     "text": [
      "np1 = [0 1 2 3 4 5 6 7 8 9]\n",
      "\n",
      "np.sqrt(np1)) = [0.         1.         1.41421356 1.73205081 2.         2.23606798\n",
      " 2.44948974 2.64575131 2.82842712 3.        ]\n",
      "\n",
      "np.absolute(np1) = [0 1 2 3 4 5 6 7 8 9]\n",
      "\n",
      "np.exp(np1) = [1.00000000e+00 2.71828183e+00 7.38905610e+00 2.00855369e+01\n",
      " 5.45981500e+01 1.48413159e+02 4.03428793e+02 1.09663316e+03\n",
      " 2.98095799e+03 8.10308393e+03]\n",
      "\n",
      "np.max(np1) = 9\n",
      "np.min(np1) = 0\n",
      "\n",
      "np.sign(np1) = [0 1 1 1 1 1 1 1 1 1]\n",
      "\n",
      "np.sin(np1) = [ 0.          0.84147098  0.90929743  0.14112001 -0.7568025  -0.95892427\n",
      " -0.2794155   0.6569866   0.98935825  0.41211849]\n"
     ]
    }
   ],
   "source": [
    "# Universal Functions\n",
    "np1 = np.arange(10)\n",
    "print(\"np1 =\", np1)\n",
    "\n",
    "# np.sqrt(<nd-arr>): Find square root of every element\n",
    "print(\"\\nnp.sqrt(np1)) =\", np.sqrt(np1))\n",
    "\n",
    "# np.absolute(<nd-arr>): Absolute value\n",
    "print(\"\\nnp.absolute(np1) =\", np.absolute(np1))\n",
    "\n",
    "# np.exp(<nd-arr>: Exponent\n",
    "print(\"\\nnp.exp(np1) =\", np.exp(np1))\n",
    "\n",
    "# Min/Max\n",
    "print(\"\\nnp.max(np1) =\", np.max(np1))\n",
    "print(\"np.min(np1) =\", np.min(np1))\n",
    "\n",
    "# Sign: Positive or negative\n",
    "print(\"\\nnp.sign(np1) =\", np.sign(np1))\n",
    "\n",
    "# Trig: sin, cos, log\n",
    "print(\"\\nnp.sin(np1) =\", np.sin(np1))"
   ]
  },
  {
   "cell_type": "code",
   "execution_count": 6,
   "id": "e4b09961-0c0a-4c09-948c-40e4276a4f4d",
   "metadata": {},
   "outputs": [
    {
     "name": "stdout",
     "output_type": "stream",
     "text": [
      "np1 = [0 1 2 3 4 5]\n",
      "Original np1 [0 1 2 3 4 5]\n",
      "Original np2 = np1.view() = [0 1 2 3 4 5]\n",
      "\n",
      "Modify np1[0] = 41\n",
      "Changed np1 [41  1  2  3  4  5]\n",
      "Original np2 [41  1  2  3  4  5]\n",
      "\n",
      "Original np3 [0 1 2 3 4 5]\n",
      "Original np4 = np3.copy() = [0 1 2 3 4 5]\n",
      "\n",
      "np3[0] = 41\n",
      "Changed np3 [0 1 2 3 4 5]\n",
      "Original np4 = np3.copy() = [41  1  2  3  4  5]\n"
     ]
    }
   ],
   "source": [
    "''' \n",
    "Copy vs View for NumPy\n",
    " Copy is a copy of an array (deep copy)\n",
    " View is a copy of an array, connected to the original array (pointer to original array)\n",
    "'''\n",
    "np1 = np.arange(6)\n",
    "print(\"np1 =\", np1)\n",
    "\n",
    "# Create view \n",
    "np2 = np1.view()\n",
    "print(f'Original np1 {np1}')\n",
    "print(f'Original np2 = np1.view() = {np2}')\n",
    "\n",
    "np2[0] = 41\n",
    "print(\"\\nModify np1[0] = 41\")\n",
    "print(f'Changed np1 {np1}')\n",
    "print(f'Original np2 {np2}')\n",
    "\n",
    "# Create a copy\n",
    "np3 = np.arange(6)\n",
    "np4 = np3.copy()\n",
    "\n",
    "print(f'\\nOriginal np3 {np3}')\n",
    "print(f'Original np4 = np3.copy() = {np4}')\n",
    "\n",
    "np4[0]=41\n",
    "print('\\nnp3[0] = 41')\n",
    "print(f'Changed np3 {np3}')\n",
    "print(f'Original np4 = np3.copy() = {np4}')"
   ]
  },
  {
   "cell_type": "code",
   "execution_count": 7,
   "id": "77836adc-7201-4c45-8856-2bf5f0e1d59b",
   "metadata": {},
   "outputs": [
    {
     "name": "stdout",
     "output_type": "stream",
     "text": [
      "np1 = [ 1  2  3  4  5  6  7  8  9 10 11 12]\n",
      "np1.shape = (12,)\n",
      "\n",
      "np2 = [[ 1  2  3  4  5  6]\n",
      " [ 7  8  9 10 11 12]]\n",
      "np2.shape = (2, 6)\n",
      "\n",
      "np1.reshape(3, 4) = [[ 1  2  3  4]\n",
      " [ 5  6  7  8]\n",
      " [ 9 10 11 12]]\n",
      "np3.shape = (3, 4)\n",
      "\n",
      "np4.reshape(2, 3, 2) = [[[ 1  2]\n",
      "  [ 3  4]\n",
      "  [ 5  6]]\n",
      "\n",
      " [[ 7  8]\n",
      "  [ 9 10]\n",
      "  [11 12]]]\n",
      "np4.shape = (2, 3, 2)\n",
      "\n",
      "np4.reshape(-1) = [ 1  2  3  4  5  6  7  8  9 10 11 12]\n",
      "np5.shape = (12,)\n"
     ]
    }
   ],
   "source": [
    "# Shape and Reshape Numpy Arrays\n",
    "\n",
    "# Create 1-D numpy array and get shape\n",
    "np1 = np.arange(1, 13)\n",
    "print(f'np1 = {np1}')\n",
    "print(f'np1.shape = {np1.shape}')\n",
    "\n",
    "# Create 2-D numpy array and get shape (rows/columns)\n",
    "np2 = np.array([[1, 2, 3, 4, 5, 6], [7, 8, 9, 10, 11, 12]])\n",
    "print(f'\\nnp2 = {np2}')\n",
    "print(f'np2.shape = {np2.shape}')\n",
    "\n",
    "# Reshape 2-D\n",
    "np3 = np1.reshape(3, 4) # 3 rows, with 4 items in each\n",
    "print(f'\\nnp1.reshape(3, 4) = {np3}')\n",
    "print(f'np3.shape = {np3.shape}')\n",
    "\n",
    "# Reshape 3-D\n",
    "np4 = np1.reshape(2, 3, 2) # 3-D, with 3 rows or 2\n",
    "print(f'\\nnp4.reshape(2, 3, 2) = {np4}')\n",
    "print(f'np4.shape = {np4.shape}')\n",
    "\n",
    "# Flatten to 1-D\n",
    "np5 = np4.reshape(-1)\n",
    "print(f'\\nnp4.reshape(-1) = {np5}')\n",
    "print(f'np5.shape = {np5.shape}')"
   ]
  },
  {
   "cell_type": "code",
   "execution_count": 8,
   "id": "93df75f6-9325-403b-8feb-2158adf303e8",
   "metadata": {},
   "outputs": [
    {
     "name": "stdout",
     "output_type": "stream",
     "text": [
      "\n",
      "Looping 1D Array\n",
      "1 2 3 4 5 6 7 8 9 10 \n",
      "\n",
      "Looping 2D Array\n",
      "[1 2 3 4 5]\n",
      "1 2 3 4 5 \n",
      "[ 6  7  8  9 10]\n",
      "6 7 8 9 10 \n",
      "\n",
      "Looping 3D Arr\n",
      "1 2 3 4 5 6 7 8 9 10 11 12 \n",
      "\n",
      " using np.nditer(<nd-arr>)\n",
      "1 2 3 4 5 6 7 8 9 10 11 12 "
     ]
    }
   ],
   "source": [
    "# Iterate through numpy arrays\n",
    "\n",
    "# 1D loop\n",
    "np1 = np.arange(1, 11)\n",
    "print('\\nLooping 1D Array')\n",
    "for x in np1:\n",
    "    print(x, end=' ')\n",
    "print()\n",
    "\n",
    "# 2D Loop\n",
    "np2 = np.array([[1, 2, 3, 4, 5], [6, 7, 8, 9, 10]])\n",
    "print('\\nLooping 2D Array')\n",
    "for x in np2:\n",
    "    print(x)\n",
    "    for y in x:\n",
    "        print(y, end=\" \")\n",
    "    print()\n",
    "\n",
    "# 3D Array\n",
    "print('\\nLooping 3D Arr')\n",
    "np3 = np.array([[[1,2,3],[4,5,6]], [[7,8,9],[10,11,12]]])\n",
    "for x in np3:\n",
    "    # print(x)\n",
    "    for y in x:\n",
    "        # print(y)\n",
    "        for z in y:\n",
    "            print(z, end=\" \")\n",
    "\n",
    "print('\\n\\n using np.nditer(<nd-arr>)')\n",
    "# Use np.nditer()\n",
    "for x in np.nditer(np3):\n",
    "    print(x, end=\" \")"
   ]
  },
  {
   "cell_type": "code",
   "execution_count": 9,
   "id": "d94df2a2-ead8-493c-a104-01ad18bb8c2c",
   "metadata": {},
   "outputs": [
    {
     "name": "stdout",
     "output_type": "stream",
     "text": [
      "np1 = [6 7 4 9 0 2 1]\n",
      "np.sort(np1) = [0 1 2 4 6 7 9]\n",
      "\n",
      "np2 = ['John' 'Tina' 'Aaron' 'Zed']\n",
      "np.sort(np2) = ['Aaron' 'John' 'Tina' 'Zed']\n",
      "\n",
      "np3 = [ True False False  True]\n",
      "np.sort(np3) = [False False  True  True]\n",
      "\n",
      "np4 = [[6 7 1 9]\n",
      " [8 3 5 0]]\n",
      "np.sort(np4) = [[1 6 7 9]\n",
      " [0 3 5 8]]\n"
     ]
    }
   ],
   "source": [
    "# Sorting Numpy Arrays\n",
    "\n",
    "# np.sort(<nd-arr>): Does not modify the original array\n",
    "np1 = np.array([6, 7, 4, 9, 0, 2, 1])\n",
    "print(f'np1 = {np1}')\n",
    "print(f'np.sort(np1) = {np.sort(np1)}')\n",
    "\n",
    "# Alphabetical Sorting (lexicographic)\n",
    "np2 = np.array([\"John\", \"Tina\", \"Aaron\", \"Zed\"])\n",
    "print(f'\\nnp2 = {np2}')\n",
    "print(f'np.sort(np2) = {np.sort(np2)}')\n",
    "\n",
    "# Booleans T/F\n",
    "np3 = np.array([True, False, False, True])\n",
    "print(f'\\nnp3 = {np3}')\n",
    "print(f'np.sort(np3) = {np.sort(np3)}')\n",
    "\n",
    "# 2-D\n",
    "np4 = np.array([[6, 7, 1, 9], [8, 3, 5, 0]])\n",
    "print(f'\\nnp4 = {np4}')\n",
    "print(f'np.sort(np4) = {np.sort(np4)}')"
   ]
  },
  {
   "cell_type": "code",
   "execution_count": 10,
   "id": "6afe7eea-d746-4dd0-8fcf-226442c0ee5c",
   "metadata": {},
   "outputs": [
    {
     "name": "stdout",
     "output_type": "stream",
     "text": [
      "np1 = [ 1  2  3  4  5  6  7  8  9 10  3]\n",
      "\n",
      "np.where(np1 == 3) = [ 2 10]\n",
      "\n",
      "np.where(np1 % 2 == 3) = [1 3 5 7 9]\n"
     ]
    }
   ],
   "source": [
    "# Searching Numpy Arrays\n",
    "\n",
    "np1 = np.array([1, 2, 3, 4, 5, 6, 7, 8, 9, 10, 3])\n",
    "print(f'np1 = {np1}')\n",
    "\n",
    "x = np.where(np1 == 3) # Returns index numbers where value is 3\n",
    "print(f'\\nnp.where(np1 == 3) = {x[0]}')\n",
    "\n",
    "# Return index of even items \n",
    "y = np.where(np1 % 2 == 0) \n",
    "print(f'\\nnp.where(np1 % 2 == 3) = {y[0]}')"
   ]
  },
  {
   "cell_type": "code",
   "execution_count": 11,
   "id": "4a99aef3-3fac-49ed-868e-df87b922545a",
   "metadata": {},
   "outputs": [
    {
     "name": "stdout",
     "output_type": "stream",
     "text": [
      "np1 = [ 1  2  3  4  5  6  7  8  9 10]\n",
      "[1 2]\n",
      "\n",
      "filtered = [False, True, False, True, False, True, False, True, False, True]\n",
      "np1[filtered] = [ 2  4  6  8 10]\n",
      "\n",
      "filtered = [False  True False  True False  True False  True False  True]\n",
      "np1[filtered] = [ 2  4  6  8 10]\n"
     ]
    }
   ],
   "source": [
    "# Filtering numpy arrays with boolean index lists\n",
    "\n",
    "np1 = np.arange(1, 11)\n",
    "print(f'np1 = {np1}')\n",
    "\n",
    "x = [True, True, False, False, False, False, False, False, False, False]\n",
    "print(np1[x]) # Filters all false values\n",
    "\n",
    "print()\n",
    "filtered = []\n",
    "for thing in np1:\n",
    "    if thing % 2 == 0:\n",
    "        filtered.append(True)\n",
    "    else:\n",
    "        filtered.append(False)\n",
    "print(f'filtered = {filtered}')\n",
    "print(f'np1[filtered] = {np1[filtered]}')\n",
    "\n",
    "# Built-in shortcut\n",
    "print()\n",
    "filtered = np1 % 2 == 0\n",
    "print(f'filtered = {filtered}')\n",
    "print(f'np1[filtered] = {np1[filtered]}')"
   ]
  },
  {
   "cell_type": "markdown",
   "id": "73b03272-53c4-4309-a02a-80c1d9c697c7",
   "metadata": {},
   "source": []
  }
 ],
 "metadata": {
  "kernelspec": {
   "display_name": "Python 3 (ipykernel)",
   "language": "python",
   "name": "python3"
  },
  "language_info": {
   "codemirror_mode": {
    "name": "ipython",
    "version": 3
   },
   "file_extension": ".py",
   "mimetype": "text/x-python",
   "name": "python",
   "nbconvert_exporter": "python",
   "pygments_lexer": "ipython3",
   "version": "3.12.0"
  }
 },
 "nbformat": 4,
 "nbformat_minor": 5
}

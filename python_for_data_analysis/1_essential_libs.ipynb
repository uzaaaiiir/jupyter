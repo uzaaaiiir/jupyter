{
 "cells": [
  {
   "cell_type": "markdown",
   "id": "5ca80926-1f27-430f-9086-3d56704ef4ad",
   "metadata": {},
   "source": [
    "# Essential Libraries in Python\n",
    "\n",
    "## NumPy (Numerical Python)\n",
    "- Provides data structures, algorithms, and library glue needed for more scientified application.\n",
    "- Based around a multidimensional array object, `ndarray`.\n",
    "- Used as a container for data for be passed between algorithms and libraries.\n",
    "\n",
    "## pandas (panel data)\n",
    "- High-level data structures and functions to make it easier to work with **tabular** data.\n",
    "- **Primary Objects**:\n",
    "  - `DataFrame`: Tabular, column-oriented data structures with row and column labels.\n",
    "  - `Series`: One-dimensional labelled array object.\n",
    "- Blend array-computing ideas of NumPy with data-manipulation capabilities of spreadsheets and relational databases.\n",
    "\n",
    "## Matplotlib \n",
    "- Python library for producing plots and other two-dimensional data visualizations.\n",
    "\n",
    "## IPython and Jupyter\n",
    "IPython - Designed to maximize productivity in both interactive computing and software development.\n",
    "- Encourages *execute-explore* workflow, rather than *edit-compile-run* workflow.\n",
    "- Data analysis is typically exploration, trial and error, and iteration.\n",
    "\n",
    "## SciPy\n",
    "SciPy is a collection of packages address different standard problem domains in scientific computing. They include:\n",
    "- `scipy.integrate`: Numerical integration routines and different equation solvers.\n",
    "- `scipy.linalg`: Linear algebra routines, maxtrix decompositions\n",
    "- `scipy.optimize`: Function optimizers and root finding algorithms\n",
    "- `scipy.signal`: Signal processing tools\n",
    "- `scipy.sparse`: Sparse matrices and spare linear system solvers\n",
    "- `scipy.special`: Wrapper around SPECFUN (Fortran library with common math functions)\n",
    "- `scipy.stats`: Stats\n",
    "\n",
    "## scikit-learn\n",
    "- ML toolkit for Python Programers. Includes submodules for:\n",
    "  - Classification: SVM, nearest neighbors, random forest, logistic regression, etc.\n",
    "  - Regression: Lasso, ridge regression, etc.\n",
    "  - Clustering: k-means, spectral clustering, etc.\n",
    "  - Dimensionality reduction\n",
    "  - Model selection: Grid search, cross-validation, metrics\n",
    "  - Preprocessing: Feature extraction, normalization\n",
    "\n",
    "## statsmodel\n",
    "statsmodel is a statistical analysis packaged. Contains packages for classical statistics and economometrics:\n",
    "- Regression Models\n",
    "- Analysis of Variance (ANOVA)\n",
    "- Time Series Analysis: AR, ARMA, ARIMA, VAR, etc.\n",
    "- Nonparametric Methods\n",
    "- Visualization of statistical model results"
   ]
  },
  {
   "cell_type": "markdown",
   "id": "0b006d10-3948-4272-8592-0b13c520023e",
   "metadata": {},
   "source": [
    "# General Tasks in Data Analysis\n",
    "- <u>Interacting with outside world</u>: Reading and writing with different file stormats and data stores.\n",
    "- <u>Preparation</u>: Cleaning, combining, normalizing, reshaping, slicing and dicing, transforming data for analysis.\n",
    "- <u>Transformation</u>: Applying mathematical and statistical operations to groups of datasets to derive new datasets.\n",
    "- <u>Modeling and Computation</u>: Connecting your data to statistical models, machine learning algorithms, or other computational tools.\n",
    "- <u>Presentation</u>: Creating interactive or static graphical visualization or textual summaries."
   ]
  },
  {
   "cell_type": "code",
   "execution_count": null,
   "id": "38c864f3-e74e-4ee8-84ac-926f170c4577",
   "metadata": {},
   "outputs": [],
   "source": []
  }
 ],
 "metadata": {
  "kernelspec": {
   "display_name": "Python 3 (ipykernel)",
   "language": "python",
   "name": "python3"
  },
  "language_info": {
   "codemirror_mode": {
    "name": "ipython",
    "version": 3
   },
   "file_extension": ".py",
   "mimetype": "text/x-python",
   "name": "python",
   "nbconvert_exporter": "python",
   "pygments_lexer": "ipython3",
   "version": "3.12.0"
  }
 },
 "nbformat": 4,
 "nbformat_minor": 5
}

{
 "cells": [
  {
   "cell_type": "markdown",
   "id": "9e590ba8-bbab-4616-bc8b-0d5cc4bd15aa",
   "metadata": {},
   "source": [
    "# IPython\n",
    "Interactive python provides a shell to interactively run python.\n",
    "- Enter shell by running `ipython` in the terminal.\n",
    "- Jupyter Notebooks run and format `ipython`."
   ]
  },
  {
   "cell_type": "code",
   "execution_count": 1,
   "id": "f005553f-44c0-48fb-813b-7a769ab610e7",
   "metadata": {},
   "outputs": [
    {
     "data": {
      "text/plain": [
       "{0: 0.014696642367700899,\n",
       " 1: 0.9829122162760767,\n",
       " 2: 0.9340435230202179,\n",
       " 3: -1.1257949560048408,\n",
       " 4: 0.7349167242400944,\n",
       " 5: -0.6604579866886359,\n",
       " 6: 0.9895559869790405}"
      ]
     },
     "execution_count": 1,
     "metadata": {},
     "output_type": "execute_result"
    }
   ],
   "source": [
    "import numpy as np\n",
    "\n",
    "data = {i: np.random.randn() for i in range(7)}\n",
    "data"
   ]
  },
  {
   "cell_type": "markdown",
   "id": "5def47c3-055e-46a9-8127-8a5b2de623ba",
   "metadata": {},
   "source": [
    "# Jupyter Notebook\n",
    "**Notebook** - Interactive document of code, text, data visualizations, and other output.\n",
    "- Jupyter Notebook interacts with *kernels* which are implementations of the Jupyter interactive computing protocol in any number of programming languages.\n",
    "\n",
    "## Starting Jupyter Notebook\n",
    "- Run the following in the terminal:\n",
    "    ```bash\n",
    "    jupyter notebook\n",
    "    ```\n",
    "- Go to `http://localhost:8888/`.\n",
    "\n",
    "## Saving\n",
    "When you save a notebook, it stores it in a file with the `.ipynb` extension.\n",
    "- This is a self-contained file format that contains all the content in the notebook.\n",
    "- These can be loaded and edited by tother users.\n",
    "\n",
    "## Tab Completion\n",
    "- Major improvement is **tab completion**.\n",
    "  - When entering expressions, press the Tab key to search the namespace for a variable.\n",
    "  - Can be used for:\n",
    "    - Searching namespace for variables\n",
    "    - Searching for variable methods and attributes\n",
    "    - Searching for module methods and attributes\n",
    "    - Searching for file paths\n",
    "    - Usage in function keyword arguments\n",
    "\n",
    "## Introspection\n",
    "**Object Introspection**: Using a question mark (`?`) before or after a variable will display general information about the object.\n",
    "- Double question mark (`??`) will show the function's source code, if possible\n",
    "\n",
    "### `?`\n",
    "```ipython\n",
    "In [1]: b = [1, 2, 3]\n",
    "\n",
    "In [2]: b? \n",
    "Type: list\n",
    "String Form:[1, 2, 3]\n",
    "Length: 3\n",
    "Docstring:\n",
    "list() -> new empty list\n",
    "list(iterable) -> new list initialized from iterable's items\n",
    "```\n",
    "\n",
    "### `??`\n",
    "```ipython\n",
    "def add_numbers(a, b):\n",
    "    '''\n",
    "        Add two numbers together\n",
    "        Returns:\n",
    "        the_sum: type of arguments\n",
    "    '''\n",
    "    return a + b\n",
    "\n",
    "In [11]: add_numbers?\n",
    "Signature: add_numbers(a, b)\n",
    "Docstring:\n",
    "Add two numbers together\n",
    "Returns\n",
    "-------\n",
    "the_sum : type of arguments\n",
    "\n",
    "In[12]: add_numbers??\n",
    "Signature: add_numbers(a, b)\n",
    "Source:\n",
    "def add_numbers(a, b):\n",
    " \"\"\"\n",
    " Add two numbers together\n",
    " Returns\n",
    " -------\n",
    " the_sum : type of arguments\n",
    " \"\"\"\n",
    " return a + b\n",
    "```\n",
    "\n",
    "## `%run` Command\n",
    "- You can run any file as a Python program inside the environment of your IPython session using the `%run` command.\n",
    "\n",
    "Suppose we had this file called `ipython_script.py`:\n",
    "```python\n",
    "def f(x, y, z):\n",
    "    return x + y + z\n",
    "\n",
    "result = f(5, 6, 7.5)\n",
    "```\n",
    "\n",
    "Within our IPython session or Jupyter Notebook, we can run:\n",
    "```python\n",
    "In [1]: %run ipython_script.py\n",
    "In [2]: result\n",
    "Out[2]: 18.5\n",
    "```\n",
    "\n",
    "## `%load` Command:\n",
    "`%load`: Import a script into a code cell.\n",
    "\n",
    "## IPython Keyboard Shortcuts\n",
    "| Keyboard Shortcut    | Description |\n",
    "| -------- | ------- |\n",
    "| Ctrl-P or up-arrow  | Search backward in command history for commands starting with currently entered text    |\n",
    "| Ctrl-N or down-arrow | Search forward in command istory for commands starting with currently entered text     |\n",
    "| Ctrl-R    | Readline-style reverse in history search    |\n",
    "|Ctrl-Shift-V| Paste text from clipboard |\n",
    "| Ctrl-C | Interrupt currently executing code |\n",
    "| Ctrl-A | Move cursor to beginning of line |\n",
    "\n",
    "## Magic commands\n",
    "**Magic Commands**: Special IPython commands for common tasks to enable you to have control on the IPython System. They are prefixed by the `%` symbol.\n",
    "| Command | Description |\n",
    "|---------|-------------|\n",
    "| `%quickref` | Display IPython Quick Reference Card |\n",
    "| `%magic` | Displayed detailed documentation of all available magic commands |\n",
    "| `%debug` | Enter interactive debugger at bottom of last exception traceback | \n",
    "| `%hist` | Print command input history |\n",
    "| `%pdb` | Automatically enter debugger after exception | \n",
    "| `%paste` | Executed preformatted Python code from clipboard | \n",
    "| `%cpaste` | Open special prompt for manually pasting Python code to be executed | \n",
    "| `%reset` | Delete all variables/names defined in interactive namespace | \n",
    "| `%page OBJECT` | Pretty-print the object and display it through a pager |\n",
    "| `%run script.py` | Run Python script inside IPython | \n",
    "| `%prun statement` | Eecute statement with cProfile and report profiler output |\n",
    "| `%time statement` | Report the execution time of a single statement |\n",
    "| `%matplotlib` | Configures matplotlib integration with IPython shell or Jupyter notebook |"
   ]
  },
  {
   "cell_type": "code",
   "execution_count": 2,
   "id": "1bea84e1-7ac8-463f-ac35-9b8319372953",
   "metadata": {},
   "outputs": [],
   "source": [
    "# Example of matplotlib integration\n",
    "%matplotlib inline"
   ]
  },
  {
   "cell_type": "code",
   "execution_count": 3,
   "id": "1c17b3d4-19d7-4471-bb4d-7cd64ad0990a",
   "metadata": {},
   "outputs": [
    {
     "data": {
      "text/plain": [
       "[<matplotlib.lines.Line2D at 0x1a3e9eaba10>]"
      ]
     },
     "execution_count": 3,
     "metadata": {},
     "output_type": "execute_result"
    },
    {
     "data": {
      "image/png": "[encoded data removed]",
      "text/plain": [
       "<Figure size 640x480 with 1 Axes>"
      ]
     },
     "metadata": {},
     "output_type": "display_data"
    }
   ],
   "source": [
    "import matplotlib.pyplot as plt\n",
    "plt.plot(np.random.randn(50).cumsum())"
   ]
  }
 ],
 "metadata": {
  "kernelspec": {
   "display_name": "Python 3 (ipykernel)",
   "language": "python",
   "name": "python3"
  },
  "language_info": {
   "codemirror_mode": {
    "name": "ipython",
    "version": 3
   },
   "file_extension": ".py",
   "mimetype": "text/x-python",
   "name": "python",
   "nbconvert_exporter": "python",
   "pygments_lexer": "ipython3",
   "version": "3.12.0"
  }
 },
 "nbformat": 4,
 "nbformat_minor": 5
}

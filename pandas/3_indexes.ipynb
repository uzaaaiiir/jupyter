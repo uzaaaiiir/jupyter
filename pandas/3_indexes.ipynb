{
 "cells": [
  {
   "cell_type": "code",
   "execution_count": 1,
   "id": "32421194-e58f-4a86-98c9-dcbfab78b24e",
   "metadata": {},
   "outputs": [],
   "source": [
    "# Import pandas\n",
    "import pandas as pd"
   ]
  },
  {
   "cell_type": "code",
   "execution_count": 2,
   "id": "5809ed32-306f-4362-8ebb-37ded14bb669",
   "metadata": {},
   "outputs": [],
   "source": [
    "# Read csv files into DataFrames\n",
    "df = pd.read_csv('data/survey_results_public.csv')\n",
    "schema_df = pd.read_csv('data/survey_results_schema.csv')"
   ]
  },
  {
   "cell_type": "code",
   "execution_count": null,
   "id": "4de07e3d-7d59-4971-9832-2ae72f59585a",
   "metadata": {},
   "outputs": [],
   "source": [
    "# Set display options \n",
    "pd.set_option('display.max_columns', None)\n",
    "pd.set_option('display.max_rows', None)\n",
    "pd.set_option('display.max_info_columns', 100)\n",
    "pd.set_option('display.max_info_rows', 100)"
   ]
  },
  {
   "cell_type": "code",
   "execution_count": 5,
   "id": "54e89f74-6221-4200-9f94-34ef80e1edb7",
   "metadata": {},
   "outputs": [
    {
     "name": "stdout",
     "output_type": "stream",
     "text": [
      "C:/Users/uzair/Desktop/dev/courses/jupyter/pandas\n"
     ]
    }
   ],
   "source": [
    "!pwd"
   ]
  },
  {
   "cell_type": "code",
   "execution_count": null,
   "id": "50b8251b-f56f-4e86-b125-b9bf12c1a458",
   "metadata": {},
   "outputs": [],
   "source": []
  }
 ],
 "metadata": {
  "kernelspec": {
   "display_name": "Python 3 (ipykernel)",
   "language": "python",
   "name": "python3"
  },
  "language_info": {
   "codemirror_mode": {
    "name": "ipython",
    "version": 3
   },
   "file_extension": ".py",
   "mimetype": "text/x-python",
   "name": "python",
   "nbconvert_exporter": "python",
   "pygments_lexer": "ipython3",
   "version": "3.12.0"
  }
 },
 "nbformat": 4,
 "nbformat_minor": 5
}

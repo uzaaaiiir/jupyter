{
 "cells": [
  {
   "cell_type": "markdown",
   "id": "498236b3-7211-4390-8c4c-a4fd86872127",
   "metadata": {},
   "source": [
    "# Assignment 3: Part 2 - Classification\n",
    "- Group Number: A-129\n",
    "- Name: Uzair Mohiuddin\n",
    "- Student Number: 8737165\n",
    "\n",
    "## Introduction\n",
    "This notebook is used to use decision trees to analyze a dataset. We will perform all the major tasks involved in a linear regression including:\n",
    "1. Cleaning data\n",
    "2. Numerical feature binning\n",
    "3. EDA and Outlier Detection\n",
    "4. Predictive Analysis: Decision Trees\n",
    "5. Feature Engineering\n",
    "6. Empirical Study\n",
    "7. Result Analysis\n",
    "\n",
    "## Dataset Description: Drugs A, B, C, X, Y for Decision Trees\n",
    "- **Dataset**: Drugs A, B, C, X, Y for Decision Trees\n",
    "- **Author**: Pablo M Gomez\n",
    "- **Source**: [Kaggle](https://www.kaggle.com/datasets/pablomgomez21/drugs-a-b-c-x-y-for-decision-trees)\n",
    "- **Purpose**: The dataset has medical information of patients who suffered from the same illness and tracked the effect of 5 drugs and which they responded to. The model is intended to help determine which drug to administer in the future based on age, sex, blood pressure, and cholesterol for a patient with the illness\n",
    "- **Shape**: 200 rows x 6 columns\n",
    "- **Features of Dataset**:\n",
    "  | Feature | Categorical/Numerical | Description |\n",
    "  | ------- | --------------------- | ----------- |\n",
    "  | Age     | Numerical (int64)     | Age |\n",
    "  | Sex     | Categorical (object)  | F/M |\n",
    "  | BP     | Categorical (object) | HIGH/NORMAL/LOW |\n",
    "  | Cholesterol | Categorical (object)  | HIGH/NORMAL/LOW |\n",
    "  | Na_to_K  | Numerical (float64) | Sodium to Potassium conversion |\n",
    "  | Drug  | Categorical (object) | Drug that worked with that patient (drugA/drugB/drugC/drugX/drugY) |\n",
    "  "
   ]
  },
  {
   "cell_type": "code",
   "execution_count": 1,
   "id": "28ee90cd-d43d-4366-ad0f-7d83fcb7097d",
   "metadata": {},
   "outputs": [],
   "source": [
    "# Import libraries\n",
    "import pandas as pd\n",
    "import numpy as np\n",
    "import matplotlib.pyplot as plt\n",
    "import seaborn as sns\n",
    "from scipy import stats\n",
    "from sklearn.neighbors import LocalOutlierFactor\n",
    "from sklearn.linear_model import LinearRegression\n",
    "from sklearn.tree import DecisionTreeClassifier, plot_tree\n",
    "from sklearn.metrics import accuracy_score, classification_report, confusion_matrix\n",
    "from sklearn.preprocessing import StandardScaler, LabelEncoder\n",
    "from sklearn.model_selection import cross_val_score, train_test_split, KFold, GridSearchCV\n",
    "from IPython.display import display, Markdown"
   ]
  },
  {
   "cell_type": "code",
   "execution_count": 2,
   "id": "8cd29a4d-2cd4-427d-9369-9a5da046d239",
   "metadata": {},
   "outputs": [],
   "source": [
    "# URL for dataset\n",
    "drug_dataset_url = \"https://raw.githubusercontent.com/uzaaaiiir/jupyter/refs/heads/main/intro_ds_assignments/assignment3/drug200.csv\"\n",
    "\n",
    "# Load dataset\n",
    "df = pd.read_csv(drug_dataset_url)"
   ]
  },
  {
   "cell_type": "code",
   "execution_count": 3,
   "id": "7459206a-085c-4567-8743-6d16c39373b5",
   "metadata": {},
   "outputs": [
    {
     "data": {
      "text/plain": [
       "(200, 6)"
      ]
     },
     "execution_count": 3,
     "metadata": {},
     "output_type": "execute_result"
    }
   ],
   "source": [
    "# Shape of dataset\n",
    "df.shape"
   ]
  },
  {
   "cell_type": "code",
   "execution_count": 4,
   "id": "a144078c-45f3-46fd-84ce-ef8ca607a110",
   "metadata": {},
   "outputs": [
    {
     "name": "stdout",
     "output_type": "stream",
     "text": [
      "<class 'pandas.core.frame.DataFrame'>\n",
      "RangeIndex: 200 entries, 0 to 199\n",
      "Data columns (total 6 columns):\n",
      " #   Column       Non-Null Count  Dtype  \n",
      "---  ------       --------------  -----  \n",
      " 0   Age          200 non-null    int64  \n",
      " 1   Sex          200 non-null    object \n",
      " 2   BP           200 non-null    object \n",
      " 3   Cholesterol  200 non-null    object \n",
      " 4   Na_to_K      200 non-null    float64\n",
      " 5   Drug         200 non-null    object \n",
      "dtypes: float64(1), int64(1), object(4)\n",
      "memory usage: 9.5+ KB\n"
     ]
    }
   ],
   "source": [
    "# Get list of features and descriptions\n",
    "df.info()"
   ]
  },
  {
   "cell_type": "code",
   "execution_count": 5,
   "id": "c8f5cbd3-627f-4261-bf91-812854c2a555",
   "metadata": {},
   "outputs": [
    {
     "data": {
      "text/html": [
       "<div>\n",
       "<style scoped>\n",
       "    .dataframe tbody tr th:only-of-type {\n",
       "        vertical-align: middle;\n",
       "    }\n",
       "\n",
       "    .dataframe tbody tr th {\n",
       "        vertical-align: top;\n",
       "    }\n",
       "\n",
       "    .dataframe thead th {\n",
       "        text-align: right;\n",
       "    }\n",
       "</style>\n",
       "<table border=\"1\" class=\"dataframe\">\n",
       "  <thead>\n",
       "    <tr style=\"text-align: right;\">\n",
       "      <th></th>\n",
       "      <th>Age</th>\n",
       "      <th>Na_to_K</th>\n",
       "    </tr>\n",
       "  </thead>\n",
       "  <tbody>\n",
       "    <tr>\n",
       "      <th>count</th>\n",
       "      <td>200.000000</td>\n",
       "      <td>200.000000</td>\n",
       "    </tr>\n",
       "    <tr>\n",
       "      <th>mean</th>\n",
       "      <td>44.315000</td>\n",
       "      <td>16.084485</td>\n",
       "    </tr>\n",
       "    <tr>\n",
       "      <th>std</th>\n",
       "      <td>16.544315</td>\n",
       "      <td>7.223956</td>\n",
       "    </tr>\n",
       "    <tr>\n",
       "      <th>min</th>\n",
       "      <td>15.000000</td>\n",
       "      <td>6.269000</td>\n",
       "    </tr>\n",
       "    <tr>\n",
       "      <th>25%</th>\n",
       "      <td>31.000000</td>\n",
       "      <td>10.445500</td>\n",
       "    </tr>\n",
       "    <tr>\n",
       "      <th>50%</th>\n",
       "      <td>45.000000</td>\n",
       "      <td>13.936500</td>\n",
       "    </tr>\n",
       "    <tr>\n",
       "      <th>75%</th>\n",
       "      <td>58.000000</td>\n",
       "      <td>19.380000</td>\n",
       "    </tr>\n",
       "    <tr>\n",
       "      <th>max</th>\n",
       "      <td>74.000000</td>\n",
       "      <td>38.247000</td>\n",
       "    </tr>\n",
       "  </tbody>\n",
       "</table>\n",
       "</div>"
      ],
      "text/plain": [
       "              Age     Na_to_K\n",
       "count  200.000000  200.000000\n",
       "mean    44.315000   16.084485\n",
       "std     16.544315    7.223956\n",
       "min     15.000000    6.269000\n",
       "25%     31.000000   10.445500\n",
       "50%     45.000000   13.936500\n",
       "75%     58.000000   19.380000\n",
       "max     74.000000   38.247000"
      ]
     },
     "execution_count": 5,
     "metadata": {},
     "output_type": "execute_result"
    }
   ],
   "source": [
    "'''\n",
    "describe() to retrieve numerical attributes.\n",
    "\n",
    "Numerical attributes: Age, Na_to_K\n",
    "'''\n",
    "df.describe()"
   ]
  },
  {
   "cell_type": "code",
   "execution_count": 6,
   "id": "ef1aefe2-ad55-4a94-a70d-2b60905c63a1",
   "metadata": {},
   "outputs": [
    {
     "data": {
      "text/html": [
       "<div>\n",
       "<style scoped>\n",
       "    .dataframe tbody tr th:only-of-type {\n",
       "        vertical-align: middle;\n",
       "    }\n",
       "\n",
       "    .dataframe tbody tr th {\n",
       "        vertical-align: top;\n",
       "    }\n",
       "\n",
       "    .dataframe thead th {\n",
       "        text-align: right;\n",
       "    }\n",
       "</style>\n",
       "<table border=\"1\" class=\"dataframe\">\n",
       "  <thead>\n",
       "    <tr style=\"text-align: right;\">\n",
       "      <th></th>\n",
       "      <th>Sex</th>\n",
       "      <th>BP</th>\n",
       "      <th>Cholesterol</th>\n",
       "      <th>Drug</th>\n",
       "    </tr>\n",
       "  </thead>\n",
       "  <tbody>\n",
       "    <tr>\n",
       "      <th>count</th>\n",
       "      <td>200</td>\n",
       "      <td>200</td>\n",
       "      <td>200</td>\n",
       "      <td>200</td>\n",
       "    </tr>\n",
       "    <tr>\n",
       "      <th>unique</th>\n",
       "      <td>2</td>\n",
       "      <td>3</td>\n",
       "      <td>2</td>\n",
       "      <td>5</td>\n",
       "    </tr>\n",
       "    <tr>\n",
       "      <th>top</th>\n",
       "      <td>M</td>\n",
       "      <td>HIGH</td>\n",
       "      <td>HIGH</td>\n",
       "      <td>drugY</td>\n",
       "    </tr>\n",
       "    <tr>\n",
       "      <th>freq</th>\n",
       "      <td>104</td>\n",
       "      <td>77</td>\n",
       "      <td>103</td>\n",
       "      <td>91</td>\n",
       "    </tr>\n",
       "  </tbody>\n",
       "</table>\n",
       "</div>"
      ],
      "text/plain": [
       "        Sex    BP Cholesterol   Drug\n",
       "count   200   200         200    200\n",
       "unique    2     3           2      5\n",
       "top       M  HIGH        HIGH  drugY\n",
       "freq    104    77         103     91"
      ]
     },
     "execution_count": 6,
     "metadata": {},
     "output_type": "execute_result"
    }
   ],
   "source": [
    "'''\n",
    "Categorical attributes of the dataset.\n",
    "\n",
    "Categorical attributes are: Sex, BP, Cholesterol, Drug\n",
    "'''\n",
    "df.describe(include=\"object\")"
   ]
  },
  {
   "cell_type": "code",
   "execution_count": 7,
   "id": "06ae8b92-d09c-4276-a6c5-b97dccd79601",
   "metadata": {},
   "outputs": [
    {
     "data": {
      "text/html": [
       "<div>\n",
       "<style scoped>\n",
       "    .dataframe tbody tr th:only-of-type {\n",
       "        vertical-align: middle;\n",
       "    }\n",
       "\n",
       "    .dataframe tbody tr th {\n",
       "        vertical-align: top;\n",
       "    }\n",
       "\n",
       "    .dataframe thead th {\n",
       "        text-align: right;\n",
       "    }\n",
       "</style>\n",
       "<table border=\"1\" class=\"dataframe\">\n",
       "  <thead>\n",
       "    <tr style=\"text-align: right;\">\n",
       "      <th></th>\n",
       "      <th>Age</th>\n",
       "      <th>Sex</th>\n",
       "      <th>BP</th>\n",
       "      <th>Cholesterol</th>\n",
       "      <th>Na_to_K</th>\n",
       "      <th>Drug</th>\n",
       "    </tr>\n",
       "  </thead>\n",
       "  <tbody>\n",
       "    <tr>\n",
       "      <th>0</th>\n",
       "      <td>23</td>\n",
       "      <td>F</td>\n",
       "      <td>HIGH</td>\n",
       "      <td>HIGH</td>\n",
       "      <td>25.355</td>\n",
       "      <td>drugY</td>\n",
       "    </tr>\n",
       "    <tr>\n",
       "      <th>1</th>\n",
       "      <td>47</td>\n",
       "      <td>M</td>\n",
       "      <td>LOW</td>\n",
       "      <td>HIGH</td>\n",
       "      <td>13.093</td>\n",
       "      <td>drugC</td>\n",
       "    </tr>\n",
       "    <tr>\n",
       "      <th>2</th>\n",
       "      <td>47</td>\n",
       "      <td>M</td>\n",
       "      <td>LOW</td>\n",
       "      <td>HIGH</td>\n",
       "      <td>10.114</td>\n",
       "      <td>drugC</td>\n",
       "    </tr>\n",
       "    <tr>\n",
       "      <th>3</th>\n",
       "      <td>28</td>\n",
       "      <td>F</td>\n",
       "      <td>NORMAL</td>\n",
       "      <td>HIGH</td>\n",
       "      <td>7.798</td>\n",
       "      <td>drugX</td>\n",
       "    </tr>\n",
       "    <tr>\n",
       "      <th>4</th>\n",
       "      <td>61</td>\n",
       "      <td>F</td>\n",
       "      <td>LOW</td>\n",
       "      <td>HIGH</td>\n",
       "      <td>18.043</td>\n",
       "      <td>drugY</td>\n",
       "    </tr>\n",
       "  </tbody>\n",
       "</table>\n",
       "</div>"
      ],
      "text/plain": [
       "   Age Sex      BP Cholesterol  Na_to_K   Drug\n",
       "0   23   F    HIGH        HIGH   25.355  drugY\n",
       "1   47   M     LOW        HIGH   13.093  drugC\n",
       "2   47   M     LOW        HIGH   10.114  drugC\n",
       "3   28   F  NORMAL        HIGH    7.798  drugX\n",
       "4   61   F     LOW        HIGH   18.043  drugY"
      ]
     },
     "execution_count": 7,
     "metadata": {},
     "output_type": "execute_result"
    }
   ],
   "source": [
    "df.head()"
   ]
  },
  {
   "cell_type": "markdown",
   "id": "270fce44-de13-4612-9209-c83555fcd2c2",
   "metadata": {},
   "source": [
    "# Classification Empirical Study"
   ]
  },
  {
   "cell_type": "markdown",
   "id": "e2ee59bc-f0c0-45db-a82a-3d142bcf84cd",
   "metadata": {},
   "source": [
    "## 1. Clean Data\n",
    "This step involves performing validity checks and imputation of missing data. "
   ]
  },
  {
   "cell_type": "code",
   "execution_count": 8,
   "id": "00367402-45f6-49c5-a9cf-14a76fc08f2d",
   "metadata": {},
   "outputs": [
    {
     "data": {
      "text/html": [
       "<div>\n",
       "<style scoped>\n",
       "    .dataframe tbody tr th:only-of-type {\n",
       "        vertical-align: middle;\n",
       "    }\n",
       "\n",
       "    .dataframe tbody tr th {\n",
       "        vertical-align: top;\n",
       "    }\n",
       "\n",
       "    .dataframe thead th {\n",
       "        text-align: right;\n",
       "    }\n",
       "</style>\n",
       "<table border=\"1\" class=\"dataframe\">\n",
       "  <thead>\n",
       "    <tr style=\"text-align: right;\">\n",
       "      <th></th>\n",
       "      <th>Age</th>\n",
       "      <th>Sex</th>\n",
       "      <th>BP</th>\n",
       "      <th>Cholesterol</th>\n",
       "      <th>Na_to_K</th>\n",
       "      <th>Drug</th>\n",
       "    </tr>\n",
       "  </thead>\n",
       "  <tbody>\n",
       "  </tbody>\n",
       "</table>\n",
       "</div>"
      ],
      "text/plain": [
       "Empty DataFrame\n",
       "Columns: [Age, Sex, BP, Cholesterol, Na_to_K, Drug]\n",
       "Index: []"
      ]
     },
     "execution_count": 8,
     "metadata": {},
     "output_type": "execute_result"
    }
   ],
   "source": [
    "'''\n",
    "Presence Check\n",
    "- No attributes are missing values. \n",
    "'''\n",
    "df_copy = df.copy(deep=True)\n",
    "\n",
    "attributes = ['Age', \"Sex\", 'BP', 'Cholesterol', 'Na_to_K', 'Drug']\n",
    "test = 'Drug'\n",
    "\n",
    "missing = df_copy[df_copy[test].isna()]\n",
    "missing"
   ]
  },
  {
   "cell_type": "code",
   "execution_count": 9,
   "id": "e31cf737-e995-42c4-8685-0a6542478469",
   "metadata": {},
   "outputs": [
    {
     "data": {
      "text/html": [
       "<div>\n",
       "<style scoped>\n",
       "    .dataframe tbody tr th:only-of-type {\n",
       "        vertical-align: middle;\n",
       "    }\n",
       "\n",
       "    .dataframe tbody tr th {\n",
       "        vertical-align: top;\n",
       "    }\n",
       "\n",
       "    .dataframe thead th {\n",
       "        text-align: right;\n",
       "    }\n",
       "</style>\n",
       "<table border=\"1\" class=\"dataframe\">\n",
       "  <thead>\n",
       "    <tr style=\"text-align: right;\">\n",
       "      <th></th>\n",
       "      <th>Age</th>\n",
       "      <th>Sex</th>\n",
       "      <th>BP</th>\n",
       "      <th>Cholesterol</th>\n",
       "      <th>Na_to_K</th>\n",
       "      <th>Drug</th>\n",
       "    </tr>\n",
       "  </thead>\n",
       "  <tbody>\n",
       "    <tr>\n",
       "      <th>96</th>\n",
       "      <td>58</td>\n",
       "      <td>F</td>\n",
       "      <td>LOW</td>\n",
       "      <td>HIGH</td>\n",
       "      <td>38.247</td>\n",
       "      <td>drugY</td>\n",
       "    </tr>\n",
       "    <tr>\n",
       "      <th>98</th>\n",
       "      <td>20</td>\n",
       "      <td>M</td>\n",
       "      <td>HIGH</td>\n",
       "      <td>NORMAL</td>\n",
       "      <td>35.639</td>\n",
       "      <td>drugY</td>\n",
       "    </tr>\n",
       "    <tr>\n",
       "      <th>184</th>\n",
       "      <td>18</td>\n",
       "      <td>F</td>\n",
       "      <td>HIGH</td>\n",
       "      <td>HIGH</td>\n",
       "      <td>37.188</td>\n",
       "      <td>drugY</td>\n",
       "    </tr>\n",
       "  </tbody>\n",
       "</table>\n",
       "</div>"
      ],
      "text/plain": [
       "     Age Sex    BP Cholesterol  Na_to_K   Drug\n",
       "96    58   F   LOW        HIGH   38.247  drugY\n",
       "98    20   M  HIGH      NORMAL   35.639  drugY\n",
       "184   18   F  HIGH        HIGH   37.188  drugY"
      ]
     },
     "execution_count": 9,
     "metadata": {},
     "output_type": "execute_result"
    }
   ],
   "source": [
    "'''\n",
    "Range Check:\n",
    "- There are 3 values out of range for Na_to_K. The normal range is until 35.\n",
    "'''\n",
    "attributes = ['age', 'bmi', 'children', 'charges']\n",
    "\n",
    "valid_ranges = {\n",
    "    \"Age\": (0, 120),\n",
    "    'Na_to_K': (0, 30)\n",
    "}\n",
    "\n",
    "test = \"Na_to_K\"\n",
    "out_of_range = df_copy[(df_copy[test] < 0) | (df_copy[test] > 35)]\n",
    "out_of_range"
   ]
  },
  {
   "cell_type": "code",
   "execution_count": 10,
   "id": "2f9b1816-c6b3-42d3-a4c6-39e6360db1ec",
   "metadata": {},
   "outputs": [],
   "source": [
    "'''\n",
    "Lookup check\n",
    "- No attributes have invalid values\n",
    "'''\n",
    "attributes = ['sex', 'smoker', 'region']\n",
    "\n",
    "valid_categories = {\n",
    "    \"BP\": {\"LOW\", \"NORMAL\", \"HIGH\"},\n",
    "    \"Cholesterol\": {\"LOW\", \"NORMAL\", \"HIGH\"},\n",
    "    \"Drug\": {\"drugA\", \"drugB\", \"drugC\", \"drugX\", \"drugY\"}\n",
    "}\n",
    "\n",
    "# Check for invalid category values\n",
    "for col, valid_values in valid_categories.items():\n",
    "    invalid_values = df_copy[~df_copy[col].isin(valid_values)]\n",
    "    if not invalid_values.empty:\n",
    "        print(f\"Warning: {col} contains invalid values\")\n",
    "        print(invalid_values[col].unique())"
   ]
  },
  {
   "cell_type": "markdown",
   "id": "419a322d-87ae-43d2-b806-40811c32c04b",
   "metadata": {},
   "source": [
    "## 2. Categorical Feature Encoding\n",
    "Performing one-hot encoding to transform categorical features into numerical features. "
   ]
  },
  {
   "cell_type": "code",
   "execution_count": 11,
   "id": "2748885d-26da-432e-9edc-252a890f4b8a",
   "metadata": {},
   "outputs": [
    {
     "data": {
      "text/html": [
       "<div>\n",
       "<style scoped>\n",
       "    .dataframe tbody tr th:only-of-type {\n",
       "        vertical-align: middle;\n",
       "    }\n",
       "\n",
       "    .dataframe tbody tr th {\n",
       "        vertical-align: top;\n",
       "    }\n",
       "\n",
       "    .dataframe thead th {\n",
       "        text-align: right;\n",
       "    }\n",
       "</style>\n",
       "<table border=\"1\" class=\"dataframe\">\n",
       "  <thead>\n",
       "    <tr style=\"text-align: right;\">\n",
       "      <th></th>\n",
       "      <th>Age</th>\n",
       "      <th>Sex</th>\n",
       "      <th>BP</th>\n",
       "      <th>Cholesterol</th>\n",
       "      <th>Na_to_K</th>\n",
       "      <th>Drug</th>\n",
       "      <th>Na_to_K_Binned</th>\n",
       "    </tr>\n",
       "  </thead>\n",
       "  <tbody>\n",
       "    <tr>\n",
       "      <th>0</th>\n",
       "      <td>23</td>\n",
       "      <td>F</td>\n",
       "      <td>HIGH</td>\n",
       "      <td>HIGH</td>\n",
       "      <td>25.355</td>\n",
       "      <td>drugY</td>\n",
       "      <td>HIGH</td>\n",
       "    </tr>\n",
       "    <tr>\n",
       "      <th>1</th>\n",
       "      <td>47</td>\n",
       "      <td>M</td>\n",
       "      <td>LOW</td>\n",
       "      <td>HIGH</td>\n",
       "      <td>13.093</td>\n",
       "      <td>drugC</td>\n",
       "      <td>NORMAL</td>\n",
       "    </tr>\n",
       "    <tr>\n",
       "      <th>2</th>\n",
       "      <td>47</td>\n",
       "      <td>M</td>\n",
       "      <td>LOW</td>\n",
       "      <td>HIGH</td>\n",
       "      <td>10.114</td>\n",
       "      <td>drugC</td>\n",
       "      <td>NORMAL</td>\n",
       "    </tr>\n",
       "    <tr>\n",
       "      <th>3</th>\n",
       "      <td>28</td>\n",
       "      <td>F</td>\n",
       "      <td>NORMAL</td>\n",
       "      <td>HIGH</td>\n",
       "      <td>7.798</td>\n",
       "      <td>drugX</td>\n",
       "      <td>LOW</td>\n",
       "    </tr>\n",
       "    <tr>\n",
       "      <th>4</th>\n",
       "      <td>61</td>\n",
       "      <td>F</td>\n",
       "      <td>LOW</td>\n",
       "      <td>HIGH</td>\n",
       "      <td>18.043</td>\n",
       "      <td>drugY</td>\n",
       "      <td>NORMAL</td>\n",
       "    </tr>\n",
       "    <tr>\n",
       "      <th>...</th>\n",
       "      <td>...</td>\n",
       "      <td>...</td>\n",
       "      <td>...</td>\n",
       "      <td>...</td>\n",
       "      <td>...</td>\n",
       "      <td>...</td>\n",
       "      <td>...</td>\n",
       "    </tr>\n",
       "    <tr>\n",
       "      <th>195</th>\n",
       "      <td>56</td>\n",
       "      <td>F</td>\n",
       "      <td>LOW</td>\n",
       "      <td>HIGH</td>\n",
       "      <td>11.567</td>\n",
       "      <td>drugC</td>\n",
       "      <td>NORMAL</td>\n",
       "    </tr>\n",
       "    <tr>\n",
       "      <th>196</th>\n",
       "      <td>16</td>\n",
       "      <td>M</td>\n",
       "      <td>LOW</td>\n",
       "      <td>HIGH</td>\n",
       "      <td>12.006</td>\n",
       "      <td>drugC</td>\n",
       "      <td>NORMAL</td>\n",
       "    </tr>\n",
       "    <tr>\n",
       "      <th>197</th>\n",
       "      <td>52</td>\n",
       "      <td>M</td>\n",
       "      <td>NORMAL</td>\n",
       "      <td>HIGH</td>\n",
       "      <td>9.894</td>\n",
       "      <td>drugX</td>\n",
       "      <td>LOW</td>\n",
       "    </tr>\n",
       "    <tr>\n",
       "      <th>198</th>\n",
       "      <td>23</td>\n",
       "      <td>M</td>\n",
       "      <td>NORMAL</td>\n",
       "      <td>NORMAL</td>\n",
       "      <td>14.020</td>\n",
       "      <td>drugX</td>\n",
       "      <td>NORMAL</td>\n",
       "    </tr>\n",
       "    <tr>\n",
       "      <th>199</th>\n",
       "      <td>40</td>\n",
       "      <td>F</td>\n",
       "      <td>LOW</td>\n",
       "      <td>NORMAL</td>\n",
       "      <td>11.349</td>\n",
       "      <td>drugX</td>\n",
       "      <td>NORMAL</td>\n",
       "    </tr>\n",
       "  </tbody>\n",
       "</table>\n",
       "<p>200 rows × 7 columns</p>\n",
       "</div>"
      ],
      "text/plain": [
       "     Age Sex      BP Cholesterol  Na_to_K   Drug Na_to_K_Binned\n",
       "0     23   F    HIGH        HIGH   25.355  drugY           HIGH\n",
       "1     47   M     LOW        HIGH   13.093  drugC         NORMAL\n",
       "2     47   M     LOW        HIGH   10.114  drugC         NORMAL\n",
       "3     28   F  NORMAL        HIGH    7.798  drugX            LOW\n",
       "4     61   F     LOW        HIGH   18.043  drugY         NORMAL\n",
       "..   ...  ..     ...         ...      ...    ...            ...\n",
       "195   56   F     LOW        HIGH   11.567  drugC         NORMAL\n",
       "196   16   M     LOW        HIGH   12.006  drugC         NORMAL\n",
       "197   52   M  NORMAL        HIGH    9.894  drugX            LOW\n",
       "198   23   M  NORMAL      NORMAL   14.020  drugX         NORMAL\n",
       "199   40   F     LOW      NORMAL   11.349  drugX         NORMAL\n",
       "\n",
       "[200 rows x 7 columns]"
      ]
     },
     "execution_count": 11,
     "metadata": {},
     "output_type": "execute_result"
    }
   ],
   "source": [
    "'''\n",
    "Binning\n",
    "- We can perform binning on the Na_to_K conversion.\n",
    "'''\n",
    "bins = [0, 10, 20, np.inf]\n",
    "labels = ['LOW', 'NORMAL', 'HIGH']\n",
    "df_copy[\"Na_to_K_Binned\"] = pd.cut(df_copy[\"Na_to_K\"], bins=bins, labels=labels, right=False)\n",
    "\n",
    "df_copy"
   ]
  },
  {
   "cell_type": "markdown",
   "id": "5c52b489-cdff-4462-a5dc-d99b38c9543f",
   "metadata": {},
   "source": [
    "## 3. EDA and Outlier Detection\n",
    "1. Perform outlier detection using Local Outlier Factor (LOF).\n",
    "2. Use EDA to visualize data and find which feature LOF should be used on. If there are no features with outliers, then introduce some outliers for at least one feature to use LOF to detect them.\n",
    "3. Decide what to do with outliers (remove them or impute them)."
   ]
  },
  {
   "cell_type": "code",
   "execution_count": 12,
   "id": "0774d656-cee5-404c-b67f-fe29bdbeea7f",
   "metadata": {},
   "outputs": [
    {
     "data": {
      "image/png": "[encoded data removed]",
      "text/plain": [
       "<Figure size 1200x500 with 2 Axes>"
      ]
     },
     "metadata": {},
     "output_type": "display_data"
    }
   ],
   "source": [
    "'''\n",
    "EDA to visualize data and outliers.\n",
    "- Na_to_K has several outliers.\n",
    "'''\n",
    "plt.figure(figsize=(12, 5))\n",
    "\n",
    "# Boxplot for Age\n",
    "plt.subplot(1, 2, 1)\n",
    "sns.boxplot(x=df[\"Age\"])\n",
    "plt.title(\"Boxplot of Age\")\n",
    "\n",
    "# Boxplot for Na_to_K\n",
    "plt.subplot(1, 2, 2)\n",
    "sns.boxplot(x=df[\"Na_to_K\"])\n",
    "plt.title(\"Boxplot of Na_to_K\")\n",
    "\n",
    "plt.show()"
   ]
  },
  {
   "cell_type": "code",
   "execution_count": 13,
   "id": "22c59116-5868-410e-be42-e734c1fdc489",
   "metadata": {},
   "outputs": [
    {
     "name": "stdout",
     "output_type": "stream",
     "text": [
      "Number of Outliers Detected: 3\n"
     ]
    },
    {
     "data": {
      "text/html": [
       "<div>\n",
       "<style scoped>\n",
       "    .dataframe tbody tr th:only-of-type {\n",
       "        vertical-align: middle;\n",
       "    }\n",
       "\n",
       "    .dataframe tbody tr th {\n",
       "        vertical-align: top;\n",
       "    }\n",
       "\n",
       "    .dataframe thead th {\n",
       "        text-align: right;\n",
       "    }\n",
       "</style>\n",
       "<table border=\"1\" class=\"dataframe\">\n",
       "  <thead>\n",
       "    <tr style=\"text-align: right;\">\n",
       "      <th></th>\n",
       "      <th>Age</th>\n",
       "      <th>Sex</th>\n",
       "      <th>BP</th>\n",
       "      <th>Cholesterol</th>\n",
       "      <th>Na_to_K</th>\n",
       "      <th>Drug</th>\n",
       "      <th>Na_to_K_Binned</th>\n",
       "      <th>lof</th>\n",
       "    </tr>\n",
       "  </thead>\n",
       "  <tbody>\n",
       "    <tr>\n",
       "      <th>96</th>\n",
       "      <td>58</td>\n",
       "      <td>F</td>\n",
       "      <td>LOW</td>\n",
       "      <td>HIGH</td>\n",
       "      <td>38.247</td>\n",
       "      <td>drugY</td>\n",
       "      <td>HIGH</td>\n",
       "      <td>1</td>\n",
       "    </tr>\n",
       "    <tr>\n",
       "      <th>98</th>\n",
       "      <td>20</td>\n",
       "      <td>M</td>\n",
       "      <td>HIGH</td>\n",
       "      <td>NORMAL</td>\n",
       "      <td>35.639</td>\n",
       "      <td>drugY</td>\n",
       "      <td>HIGH</td>\n",
       "      <td>1</td>\n",
       "    </tr>\n",
       "    <tr>\n",
       "      <th>184</th>\n",
       "      <td>18</td>\n",
       "      <td>F</td>\n",
       "      <td>HIGH</td>\n",
       "      <td>HIGH</td>\n",
       "      <td>37.188</td>\n",
       "      <td>drugY</td>\n",
       "      <td>HIGH</td>\n",
       "      <td>1</td>\n",
       "    </tr>\n",
       "  </tbody>\n",
       "</table>\n",
       "</div>"
      ],
      "text/plain": [
       "     Age Sex    BP Cholesterol  Na_to_K   Drug Na_to_K_Binned  lof\n",
       "96    58   F   LOW        HIGH   38.247  drugY           HIGH    1\n",
       "98    20   M  HIGH      NORMAL   35.639  drugY           HIGH    1\n",
       "184   18   F  HIGH        HIGH   37.188  drugY           HIGH    1"
      ]
     },
     "execution_count": 13,
     "metadata": {},
     "output_type": "execute_result"
    }
   ],
   "source": [
    "'''\n",
    "Applying Local Outlier Factor to detect outliers.\n",
    "- 3 outliers\n",
    "'''\n",
    "\n",
    "numerical_attributes = ['Age', 'Na_to_K']\n",
    "\n",
    "lof = LocalOutlierFactor(n_neighbors=40)\n",
    "outlier_labels = lof.fit_predict(df_copy[numerical_attributes])\n",
    "\n",
    "df_copy['lof'] = (outlier_labels == -1).astype(int)\n",
    "print(f\"Number of Outliers Detected: {df_copy['lof'].sum()}\")\n",
    "\n",
    "\n",
    "df_copy[df_copy['lof'] == 1]"
   ]
  },
  {
   "cell_type": "code",
   "execution_count": 14,
   "id": "7a4c5372-1798-4522-816d-e3cdf647e205",
   "metadata": {},
   "outputs": [
    {
     "name": "stdout",
     "output_type": "stream",
     "text": [
      "<class 'pandas.core.frame.DataFrame'>\n",
      "Index: 197 entries, 0 to 199\n",
      "Data columns (total 7 columns):\n",
      " #   Column          Non-Null Count  Dtype   \n",
      "---  ------          --------------  -----   \n",
      " 0   Age             197 non-null    int64   \n",
      " 1   Sex             197 non-null    object  \n",
      " 2   BP              197 non-null    object  \n",
      " 3   Cholesterol     197 non-null    object  \n",
      " 4   Na_to_K         197 non-null    float64 \n",
      " 5   Drug            197 non-null    object  \n",
      " 6   Na_to_K_Binned  197 non-null    category\n",
      "dtypes: category(1), float64(1), int64(1), object(4)\n",
      "memory usage: 11.1+ KB\n"
     ]
    }
   ],
   "source": [
    "'''\n",
    "We identified 3 outliers. Let's remove them.\n",
    "'''\n",
    "df_cleaned = df_copy[df_copy['lof'] == 0].drop(columns=['lof'])\n",
    "\n",
    "df_cleaned.info()"
   ]
  },
  {
   "cell_type": "markdown",
   "id": "8b106b85-c016-427a-90b6-1f7b26a985e9",
   "metadata": {},
   "source": [
    "## 4. Predictive Analysis (Classification)\n",
    "Explore Decision Trees using scikit-learn."
   ]
  },
  {
   "cell_type": "code",
   "execution_count": 15,
   "id": "98244ee8-ce0b-4898-a515-6a36fb27e262",
   "metadata": {},
   "outputs": [
    {
     "data": {
      "text/html": [
       "<div>\n",
       "<style scoped>\n",
       "    .dataframe tbody tr th:only-of-type {\n",
       "        vertical-align: middle;\n",
       "    }\n",
       "\n",
       "    .dataframe tbody tr th {\n",
       "        vertical-align: top;\n",
       "    }\n",
       "\n",
       "    .dataframe thead th {\n",
       "        text-align: right;\n",
       "    }\n",
       "</style>\n",
       "<table border=\"1\" class=\"dataframe\">\n",
       "  <thead>\n",
       "    <tr style=\"text-align: right;\">\n",
       "      <th></th>\n",
       "      <th>Age</th>\n",
       "      <th>Sex</th>\n",
       "      <th>Na_to_K</th>\n",
       "      <th>Drug</th>\n",
       "      <th>Na_to_K_Binned</th>\n",
       "      <th>BP_LOW</th>\n",
       "      <th>BP_NORMAL</th>\n",
       "      <th>Cholesterol_NORMAL</th>\n",
       "    </tr>\n",
       "  </thead>\n",
       "  <tbody>\n",
       "    <tr>\n",
       "      <th>0</th>\n",
       "      <td>23</td>\n",
       "      <td>0</td>\n",
       "      <td>25</td>\n",
       "      <td>4</td>\n",
       "      <td>0</td>\n",
       "      <td>0</td>\n",
       "      <td>0</td>\n",
       "      <td>0</td>\n",
       "    </tr>\n",
       "    <tr>\n",
       "      <th>1</th>\n",
       "      <td>47</td>\n",
       "      <td>1</td>\n",
       "      <td>13</td>\n",
       "      <td>2</td>\n",
       "      <td>2</td>\n",
       "      <td>1</td>\n",
       "      <td>0</td>\n",
       "      <td>0</td>\n",
       "    </tr>\n",
       "    <tr>\n",
       "      <th>2</th>\n",
       "      <td>47</td>\n",
       "      <td>1</td>\n",
       "      <td>10</td>\n",
       "      <td>2</td>\n",
       "      <td>2</td>\n",
       "      <td>1</td>\n",
       "      <td>0</td>\n",
       "      <td>0</td>\n",
       "    </tr>\n",
       "    <tr>\n",
       "      <th>3</th>\n",
       "      <td>28</td>\n",
       "      <td>0</td>\n",
       "      <td>7</td>\n",
       "      <td>3</td>\n",
       "      <td>1</td>\n",
       "      <td>0</td>\n",
       "      <td>1</td>\n",
       "      <td>0</td>\n",
       "    </tr>\n",
       "    <tr>\n",
       "      <th>4</th>\n",
       "      <td>61</td>\n",
       "      <td>0</td>\n",
       "      <td>18</td>\n",
       "      <td>4</td>\n",
       "      <td>2</td>\n",
       "      <td>1</td>\n",
       "      <td>0</td>\n",
       "      <td>0</td>\n",
       "    </tr>\n",
       "  </tbody>\n",
       "</table>\n",
       "</div>"
      ],
      "text/plain": [
       "   Age  Sex  Na_to_K  Drug  Na_to_K_Binned  BP_LOW  BP_NORMAL  \\\n",
       "0   23    0       25     4               0       0          0   \n",
       "1   47    1       13     2               2       1          0   \n",
       "2   47    1       10     2               2       1          0   \n",
       "3   28    0        7     3               1       0          1   \n",
       "4   61    0       18     4               2       1          0   \n",
       "\n",
       "   Cholesterol_NORMAL  \n",
       "0                   0  \n",
       "1                   0  \n",
       "2                   0  \n",
       "3                   0  \n",
       "4                   0  "
      ]
     },
     "execution_count": 15,
     "metadata": {},
     "output_type": "execute_result"
    }
   ],
   "source": [
    "'''\n",
    "Decision Trees\n",
    "'''\n",
    "df_copy.drop(columns=[\"lof\"], inplace=True, errors=\"ignore\")\n",
    "df_encoded = df_copy.copy(deep=True)\n",
    "\n",
    "# Apply Label Encoding for Binary Categorical Columns\n",
    "le_sex = LabelEncoder()\n",
    "df_encoded[\"Sex\"] = le_sex.fit_transform(df_encoded[\"Sex\"]).astype(int)\n",
    "\n",
    "le_na_to_k = LabelEncoder()\n",
    "df_encoded[\"Na_to_K_Binned\"] = le_na_to_k.fit_transform(df_encoded[\"Na_to_K_Binned\"]).astype(int)  # F → 0, M → 1\n",
    "\n",
    "le_drug = LabelEncoder()\n",
    "df_encoded[\"Drug\"] = le_drug.fit_transform(df_encoded[\"Drug\"])  # A → 0, B → 1, etc.\n",
    "\n",
    "# Apply One-Hot Encoding for Multi-Class Categorical Columns\n",
    "df_encoded = pd.get_dummies(df_encoded, columns=[\"BP\", \"Cholesterol\"], drop_first=True).astype(int)\n",
    "\n",
    "X = df_encoded.drop(columns=[\"Drug\"])\n",
    "y = df_encoded['Drug']\n",
    "\n",
    "# Split data into Training (70%) and Testing (30%) sets\n",
    "X_train, X_test, y_train, y_test = train_test_split(X, y, test_size=0.2, random_state=42)\n",
    "df_encoded.head()"
   ]
  },
  {
   "cell_type": "code",
   "execution_count": 16,
   "id": "05a957f0-3470-4225-bc16-c402bd54f497",
   "metadata": {},
   "outputs": [],
   "source": [
    "def clean_data(df):\n",
    "    df_cleaner = df_copy.copy(deep=True)\n",
    "    \n",
    "    # Apply Label Encoding for Binary Categorical Columns\n",
    "    le_sex = LabelEncoder()\n",
    "    df_cleaner[\"Sex\"] = le_sex.fit_transform(df_cleaner[\"Sex\"]).astype(int)\n",
    "    \n",
    "    le_na_to_k = LabelEncoder()\n",
    "    df_cleaner[\"Na_to_K_Binned\"] = le_na_to_k.fit_transform(df_cleaner[\"Na_to_K_Binned\"]).astype(int)  # F → 0, M → 1\n",
    "    \n",
    "    le_drug = LabelEncoder()\n",
    "    df_cleaner[\"Drug\"] = le_drug.fit_transform(df_cleaner[\"Drug\"])  # A → 0, B → 1, etc.\n",
    "    \n",
    "    # Apply One-Hot Encoding for Multi-Class Categorical Columns\n",
    "    df_cleaner = pd.get_dummies(df_cleaner, columns=[\"BP\", \"Cholesterol\"], drop_first=True).astype(int)\n",
    "\n",
    "    return df_cleaner"
   ]
  },
  {
   "cell_type": "code",
   "execution_count": 17,
   "id": "790daa8d-6d45-4b65-98f8-d3dd979852ea",
   "metadata": {},
   "outputs": [
    {
     "name": "stdout",
     "output_type": "stream",
     "text": [
      "Baseline Decision Tree Accuracy: 1.0\n",
      "Classification Report:\n",
      "               precision    recall  f1-score   support\n",
      "\n",
      "           0       1.00      1.00      1.00         6\n",
      "           1       1.00      1.00      1.00         3\n",
      "           2       1.00      1.00      1.00         5\n",
      "           3       1.00      1.00      1.00        11\n",
      "           4       1.00      1.00      1.00        15\n",
      "\n",
      "    accuracy                           1.00        40\n",
      "   macro avg       1.00      1.00      1.00        40\n",
      "weighted avg       1.00      1.00      1.00        40\n",
      "\n"
     ]
    },
    {
     "data": {
      "image/png": "[encoded data removed]",
      "text/plain": [
       "<Figure size 600x400 with 2 Axes>"
      ]
     },
     "metadata": {},
     "output_type": "display_data"
    }
   ],
   "source": [
    "# Initialize Decision Tree with baseline settings\n",
    "dt_baseline = DecisionTreeClassifier(criterion=\"gini\", max_depth=None, min_samples_split=2, random_state=42)\n",
    "\n",
    "# Train the model\n",
    "dt_baseline.fit(X_train, y_train)\n",
    "\n",
    "# Make predictions\n",
    "y_pred = dt_baseline.predict(X_test)\n",
    "\n",
    "# Evaluate Model\n",
    "accuracy = accuracy_score(y_test, y_pred)\n",
    "print(f\"Baseline Decision Tree Accuracy: {accuracy}\")\n",
    "\n",
    "# Show Classification Report\n",
    "print(\"Classification Report:\\n\", classification_report(y_test, y_pred))\n",
    "\n",
    "# Display Confusion Matrix with Correct Class Labels\n",
    "plt.figure(figsize=(6, 4))\n",
    "sns.heatmap(\n",
    "    confusion_matrix(y_test, y_pred), \n",
    "    annot=True, \n",
    "    fmt=\"d\", \n",
    "    cmap=\"Blues\", \n",
    "    xticklabels=le_drug.classes_, \n",
    "    yticklabels=le_drug.classes_\n",
    ")\n",
    "plt.xlabel(\"Predicted\")\n",
    "plt.ylabel(\"Actual\")\n",
    "plt.title(\"Confusion Matrix\")\n",
    "plt.show()"
   ]
  },
  {
   "cell_type": "markdown",
   "id": "350cd79d-9e5f-4b01-a7c5-cd31bba21a7a",
   "metadata": {},
   "source": [
    "## 5. Feature Engineering\n",
    "Program a feature aggregator to create 2 additional features. This involves thinking of interesting ways to combine features based on the dataset and what could make sense. "
   ]
  },
  {
   "cell_type": "code",
   "execution_count": 18,
   "id": "fd7c946d-7c9a-4aad-a1c0-aa0328007f68",
   "metadata": {},
   "outputs": [],
   "source": [
    "'''\n",
    "Feature aggregation:\n",
    "- bmi * age might tell us if older individuals with higher bmi have higher costs.\n",
    "- children per age\n",
    "'''\n",
    "df_aggregate = df_encoded.copy(deep=True)\n",
    "df_aggregate[\"Age^2\"] = df_aggregate[\"Age\"] ** 2"
   ]
  },
  {
   "cell_type": "markdown",
   "id": "f7e54dd7-7057-4cff-a435-d47baee4f45b",
   "metadata": {},
   "source": [
    "## 6. Empirical Study\n",
    "1. Split data into 3 subsets for train, validation, and test sets.\n",
    "2. Decide on evaluation metrics (MSE, LMSE, R2).\n",
    "3. Use linear regression with baseline settings, without outlier removal and without feature aggregation. Evaluate on a validation set using a 4-fold cross validation.\n",
    "4. Try different combinations. Find the best system.\n",
    "5. Decide on the final system which is the best one according to the study. "
   ]
  },
  {
   "cell_type": "code",
   "execution_count": 19,
   "id": "be2ad14a-bceb-4860-bbae-beed98cd0929",
   "metadata": {},
   "outputs": [],
   "source": [
    "'''\n",
    "Empirical Study\n",
    "- Split dataset into 3 subsets.\n",
    "'''\n",
    "X_train, X_temp, y_train, y_temp = train_test_split(X, y, test_size=0.4, random_state=42)\n",
    "X_val, X_test, y_val, y_test = train_test_split(X_temp, y_temp, test_size=0.5, random_state=42)"
   ]
  },
  {
   "cell_type": "code",
   "execution_count": 20,
   "id": "008ea5a2-4e1d-45ff-a1d6-92dd94c6226c",
   "metadata": {},
   "outputs": [
    {
     "name": "stdout",
     "output_type": "stream",
     "text": [
      "Baseline Decision Tree - 4-Fold Cross-Validation Accuracy: 0.9917 ± 0.0144\n"
     ]
    }
   ],
   "source": [
    "'''\n",
    "Baseline\n",
    "'''\n",
    "dt_baseline = DecisionTreeClassifier(criterion=\"gini\", max_depth=None, min_samples_split=2, random_state=42)\n",
    "\n",
    "# Perform 4-fold cross-validation\n",
    "cv_scores = cross_val_score(dt_baseline, X_train, y_train, cv=4, scoring=\"accuracy\")\n",
    "\n",
    "# Print results\n",
    "print(f\"Baseline Decision Tree - 4-Fold Cross-Validation Accuracy: {cv_scores.mean():.4f} ± {cv_scores.std():.4f}\")"
   ]
  },
  {
   "cell_type": "code",
   "execution_count": 21,
   "id": "c28c7de6-10eb-4ce0-89e9-de1c0f6e3cf9",
   "metadata": {},
   "outputs": [
    {
     "name": "stdout",
     "output_type": "stream",
     "text": [
      "Decision Tree with Outlier Removal - 4-Fold CV Accuracy: 0.9900 ± 0.0173\n"
     ]
    }
   ],
   "source": [
    "# Outlier removal\n",
    "df_cleaned_encoded = clean_data(df_cleaned)\n",
    "\n",
    "X_train_no_outliers = df_cleaned_encoded.drop(columns=[\"Drug\"])\n",
    "y_train_no_outliers = df_cleaned_encoded['Drug']\n",
    "dt_no_outliers = DecisionTreeClassifier(random_state=42)\n",
    "cv_scores_no_outliers = cross_val_score(dt_no_outliers, X_train_no_outliers, y_train_no_outliers, cv=4, scoring=\"accuracy\")\n",
    "print(f\"Decision Tree with Outlier Removal - 4-Fold CV Accuracy: {cv_scores_no_outliers.mean():.4f} ± {cv_scores_no_outliers.std():.4f}\")"
   ]
  },
  {
   "cell_type": "code",
   "execution_count": 22,
   "id": "1dfadd63-cd58-4310-9667-07843f1f274d",
   "metadata": {},
   "outputs": [
    {
     "name": "stdout",
     "output_type": "stream",
     "text": [
      "Decision Tree with Aggregate Removal - 4-Fold CV Accuracy: 0.9900 ± 0.0173\n"
     ]
    }
   ],
   "source": [
    "# Feature Aggregation\n",
    "# Outlier removal\n",
    "df_aggregate_encoded = clean_data(df_aggregate)\n",
    "\n",
    "X_train_aggregate = df_aggregate_encoded.drop(columns=[\"Drug\"])\n",
    "y_train_aggregate = df_aggregate_encoded['Drug']\n",
    "dt_aggregate = DecisionTreeClassifier(random_state=42)\n",
    "cv_scores_aggregate = cross_val_score(dt_aggregate, X_train_aggregate, y_train_aggregate, cv=4, scoring=\"accuracy\")\n",
    "print(f\"Decision Tree with Aggregate Removal - 4-Fold CV Accuracy: {cv_scores_aggregate.mean():.4f} ± {cv_scores_aggregate.std():.4f}\")"
   ]
  },
  {
   "cell_type": "code",
   "execution_count": 23,
   "id": "194519ab-f2af-40e5-9e55-7f2ef2b73f77",
   "metadata": {},
   "outputs": [
    {
     "name": "stdout",
     "output_type": "stream",
     "text": [
      "Final Model Accuracy on Test Set: 1.0000\n"
     ]
    },
    {
     "data": {
      "image/png": "[encoded data removed]",
      "text/plain": [
       "<Figure size 600x400 with 2 Axes>"
      ]
     },
     "metadata": {},
     "output_type": "display_data"
    }
   ],
   "source": [
    "'''\n",
    "The baseline is the best system. We can use it to perform the final evaluation.\n",
    "'''\n",
    "# Train Final Model on Training Set\n",
    "final_model = DecisionTreeClassifier(random_state=42)\n",
    "final_model.fit(X_train, y_train)\n",
    "\n",
    "# Test Set Predictions\n",
    "y_test_pred = final_model.predict(X_test)\n",
    "\n",
    "# Evaluate on Test Set\n",
    "test_accuracy = accuracy_score(y_test, y_test_pred)\n",
    "print(f\"Final Model Accuracy on Test Set: {test_accuracy:.4f}\")\n",
    "\n",
    "# Show Confusion Matrix\n",
    "plt.figure(figsize=(6, 4))\n",
    "sns.heatmap(confusion_matrix(y_test, y_test_pred), annot=True, fmt=\"d\", cmap=\"Blues\", xticklabels=le_drug.classes_, yticklabels=le_drug.classes_)\n",
    "plt.xlabel(\"Predicted\")\n",
    "plt.ylabel(\"Actual\")\n",
    "plt.title(\"Final Model - Confusion Matrix\")\n",
    "plt.show()"
   ]
  },
  {
   "cell_type": "markdown",
   "id": "3c7f55bb-6608-47b9-a592-d6acf0ffcb1b",
   "metadata": {},
   "source": [
    "## 7. Result Analysis\n",
    "We conducted the empirical study to evaluate the different settings for the Decision Tree Classifier. Based on the test using 4-fold cross validation, we found that the baseline decision tree was best with a 0.9917 accuracy. Removing outliers or performing aggregation did not significantly affect accuracy. "
   ]
  },
  {
   "cell_type": "markdown",
   "id": "2ef2e712-d616-4504-8f1f-ba17bd9d5972",
   "metadata": {},
   "source": [
    "# Conclusion\n",
    "The overall conclusion was that the prediction accuracy was best with the baseline, and removing outliers to feature engineering didn't make an impact. This indicated that the decision tree model handled data effectively in making predictions without additional preprocessing. \n",
    "\n",
    "# References\n",
    "- Week 7 Predictive Analysis Decision Trees Lecture\n",
    "- Week 8 Predictive Analysis Feature Engineering\n",
    "- ChatGTP Prompts\n",
    "  - How do we perform a decision tree classification on a dataset, and how do we format the data?"
   ]
  }
 ],
 "metadata": {
  "kernelspec": {
   "display_name": "Python 3 (ipykernel)",
   "language": "python",
   "name": "python3"
  },
  "language_info": {
   "codemirror_mode": {
    "name": "ipython",
    "version": 3
   },
   "file_extension": ".py",
   "mimetype": "text/x-python",
   "name": "python",
   "nbconvert_exporter": "python",
   "pygments_lexer": "ipython3",
   "version": "3.12.0"
  }
 },
 "nbformat": 4,
 "nbformat_minor": 5
}

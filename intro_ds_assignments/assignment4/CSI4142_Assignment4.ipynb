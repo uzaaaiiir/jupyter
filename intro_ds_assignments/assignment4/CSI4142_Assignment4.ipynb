{
 "cells": [
  {
   "cell_type": "markdown",
   "id": "a28382c0-0fb7-4b02-b971-531b56ee8dfe",
   "metadata": {},
   "source": [
    "# Assignment 4: Unsupervised Learning (Clustering and Recommendations)\n",
    "- Group Number: A-129\n",
    "- Name: Uzair Mohiuddin\n",
    "- Student Number: 8737165\n",
    "\n",
    "## Introduction\n",
    "The objective of this notebook is to explore concepts of Unsupervised Learning and Recommendation systems by implementing machine learning and data analysis techniques. This notebook is structured around four main studies:\n",
    "1. **Study 1**: Testing various similarity measures on movie metadata.\n",
    "2. **Study 2**: Applying and comparing clustering algorithms (KMeans and DBSCAN).\n",
    "3. **Study 3**: Building a content-based recommendation system using domain-informed heuristics.\n",
    "4. **Study 4**: Implementing a collaborative filtering recommendation system using matrix factorization, and evaluating its performance both quantitatively and qualitatively. \n",
    "\n",
    "## Dataset Description: Medical Cost Personal Assets\n",
    "- **Dataset**: The Movies Dataset\n",
    "- **Author**: Rounak Banik\n",
    "- **Source**: [Kaggle](https://www.kaggle.com/datasets/rounakbanik/the-movies-dataset)\n",
    "- **Purpose**: The dataset represents the medical insurance costs and related factors such as age, sex, bmi, children, smiking, region, and charges.\n",
    "- **Shape**: 1338 rows x 7 columns\n",
    "- **Features of Dataset**:\n",
    "  | Feature | Categorical/Numerical | Description |\n",
    "  | ------- | --------------------- | ----------- |\n",
    "  | age     | Numerical (int64)     | Age |\n",
    "  | sex     | Categorical (object)  | Insurance contractor gender (male/female) |\n",
    "  | bmi     | Numerical (float64) | Body Mass Index (kg / m^2) |\n",
    "  | children | Numerical (int64)  | Number of children covered by health insurance |\n",
    "  | smoker  | Categorical (object) | Smoking (yes/no) |\n",
    "  | region  | Categorical (object) | Beneficiary's residential area (northeast, southeast, southwest, northwest) |\n",
    "  | charges | Numerical (float64) | Individual medical costs billed by health insurance |\n",
    "  "
   ]
  },
  {
   "cell_type": "code",
   "execution_count": null,
   "id": "96c06e30-2bc7-4558-840f-61e2b66ef941",
   "metadata": {},
   "outputs": [],
   "source": []
  }
 ],
 "metadata": {
  "kernelspec": {
   "display_name": "Python 3 (ipykernel)",
   "language": "python",
   "name": "python3"
  },
  "language_info": {
   "codemirror_mode": {
    "name": "ipython",
    "version": 3
   },
   "file_extension": ".py",
   "mimetype": "text/x-python",
   "name": "python",
   "nbconvert_exporter": "python",
   "pygments_lexer": "ipython3",
   "version": "3.11.0"
  }
 },
 "nbformat": 4,
 "nbformat_minor": 5
}
